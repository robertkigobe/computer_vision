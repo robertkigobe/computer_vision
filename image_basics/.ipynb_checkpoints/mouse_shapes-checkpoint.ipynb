{
 "cells": [
  {
   "cell_type": "code",
   "execution_count": null,
   "id": "52b11cbb",
   "metadata": {},
   "outputs": [],
   "source": [
    "import cv2\n",
    "import numpy as np\n",
    "import matplotlib.pyplot as plt\n",
    "\n",
    "############\n",
    "##FUNCTION##\n",
    "############\n",
    "\n",
    "def drawCircle(event,x,y,flags,param):\n",
    "    \n",
    "\n",
    "    if event == cv2.EVENT_LBUTTONDBLCLK:\n",
    "        cv2.circle(blank_img,x,y,100,(0,255,0),-1)\n",
    "    elif event == cv2.EVENT_RBUTTONDBLCLK:\n",
    "        cv2.circle(blank_img,x,y,100,(255,0,0),-1)\n",
    "\n",
    "cv2.namedWindow(winname='My_Drawing')\n",
    "cv2.setMouseCallback('My_Drawing',drawCircle)\n",
    "\n",
    "\n",
    "###########################\n",
    "##SHOW IMAGE WITH OPEN CV##\n",
    "###########################\n",
    "blank_img = np.zeros(shape=(512,512,3))\n",
    "\n",
    "while True:\n",
    "\n",
    "\tcv2.imshow('My_Drawing',blank_img)\n",
    "\n",
    "\tif cv2.waitKey(1) & 0xFF == 27:\n",
    "\t\tbreak\n",
    "\n",
    "cv2.destroyAllWindows()\n"
   ]
  }
 ],
 "metadata": {
  "kernelspec": {
   "display_name": "Python 3 (ipykernel)",
   "language": "python",
   "name": "python3"
  },
  "language_info": {
   "codemirror_mode": {
    "name": "ipython",
    "version": 3
   },
   "file_extension": ".py",
   "mimetype": "text/x-python",
   "name": "python",
   "nbconvert_exporter": "python",
   "pygments_lexer": "ipython3",
   "version": "3.8.12"
  }
 },
 "nbformat": 4,
 "nbformat_minor": 5
}
